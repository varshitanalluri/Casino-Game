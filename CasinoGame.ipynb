{
 "cells": [
  {
   "cell_type": "code",
   "execution_count": 1,
   "id": "9810c4dd",
   "metadata": {},
   "outputs": [],
   "source": [
    "def main_menu(wallet):\n",
    "\n",
    "    print(\"----[Welcome to the Royal Casino]----\")\n",
    "\n",
    "    print(\"----[Select from the following options]----\\n\")\n",
    "\n",
    "    print(\"[1] Roulette\")\n",
    "    print(\"[2] Deposit Money    [3] Withdraw Money    [4] Show Money\")\n",
    "\n",
    "    game = int(input(\"Please Select your game: \"))\n",
    "    if game == 1:\n",
    "        roulette(wallet)\n",
    "    elif game == 2:\n",
    "        deposit_money(wallet)\n",
    "    elif game == 3:\n",
    "        withdraw_money(wallet)\n",
    "    "
   ]
  },
  {
   "cell_type": "code",
   "execution_count": 2,
   "id": "f7e5020c",
   "metadata": {},
   "outputs": [],
   "source": [
    "def deposit_money(wallet):\n",
    "\n",
    "    print(\"----[Deposit Money]----\\n\")\n",
    "\n",
    "    deposit = int(input(\"How much would you like to deposit?: $ \"))\n",
    "    wallet = wallet + deposit\n",
    "    print(\"Succesfully deposited $ \", deposit)\n",
    "    show_wallet(wallet)"
   ]
  },
  {
   "cell_type": "code",
   "execution_count": 3,
   "id": "5728c97b",
   "metadata": {},
   "outputs": [],
   "source": [
    "def money_check(wallet, bet):\n",
    "\n",
    "    if bet == 0:\n",
    "        main_menu(wallet)\n",
    "    if wallet == 0:\n",
    "        print(\"Sorry! There is no money available in your wallet.\")\n",
    "        main_menu(wallet)\n",
    "    if bet > wallet:\n",
    "        print(\"Sufficient money is not available in your wallet for this bet!\")\n",
    "        main_menu(wallet)"
   ]
  },
  {
   "cell_type": "code",
   "execution_count": 4,
   "id": "94b52af4",
   "metadata": {},
   "outputs": [],
   "source": [
    "def show_wallet(wallet):\n",
    "    print(\"Now available money in your wallet is: $ \", wallet)"
   ]
  },
  {
   "cell_type": "code",
   "execution_count": 5,
   "id": "b00dfc31",
   "metadata": {},
   "outputs": [],
   "source": [
    "import random\n",
    "\n",
    "def roulette(wallet):\n",
    "\n",
    "    random_color = random.choice(['Red', 'Black', 'Green'])\n",
    "    winning_number = random.randint(0,36)\n",
    "\n",
    "    print(\"----[Now playing Roulette]----\\n\")\n",
    "\n",
    "    bet = int(input(\"Place your amount of bets $: \"))\n",
    "    money_check(wallet, bet)\n",
    "\n",
    "    bet_number = int(input(\"On which number? \"))\n",
    "\n",
    "    if bet_number == winning_number:\n",
    "        print(\"Winning number is: \", winning_number, random_color)\n",
    "        print(\"Congratulations! You've won $: \", winnings)\n",
    "        winnings = bet * 36\n",
    "        wallet = wallet + winnings\n",
    "        show_wallet(wallet)\n",
    "    else:\n",
    "        print(\"You've lost! Better luck next time! Winning number was: \", winning_number, random_color)\n",
    "        wallet = wallet - bet\n",
    "        show_wallet(wallet)"
   ]
  },
  {
   "cell_type": "code",
   "execution_count": 6,
   "id": "53e14d75",
   "metadata": {},
   "outputs": [],
   "source": [
    "def withdraw_money(wallet):\n",
    "\n",
    "    print(\"----[Withdraw Money]----\\n\")\n",
    "\n",
    "    withdrawal = int(input(\"How much would you like to withdraw?: $ \"))\n",
    "    wallet = wallet - withdrawal\n",
    "    print(\"Succesfully withdrawn $ \", withdrawal)\n",
    "    show_wallet(wallet)"
   ]
  },
  {
   "cell_type": "code",
   "execution_count": 8,
   "id": "bb99005f",
   "metadata": {},
   "outputs": [
    {
     "name": "stdout",
     "output_type": "stream",
     "text": [
      "----[Welcome to the Royal Casino]----\n",
      "----[Select from the following options]----\n",
      "\n",
      "[1] Roulette\n",
      "[2] Deposit Money    [3] Withdraw Money    [4] Exit\n",
      "Please Select your game: 1\n",
      "----[Now playing Roulette]----\n",
      "\n",
      "Place your amount of bets $: 700\n",
      "Sufficient money is not available in your wallet for this bet!\n",
      "----[Welcome to the Royal Casino]----\n",
      "----[Select from the following options]----\n",
      "\n",
      "[1] Roulette\n",
      "[2] Deposit Money    [3] Withdraw Money    [4] Exit\n",
      "Please Select your game: 1\n",
      "----[Now playing Roulette]----\n",
      "\n",
      "Place your amount of bets $: 200\n",
      "On which number? 9\n",
      "You've lost! Better luck next time! Winning number was:  27 Red\n",
      "Now available money in your wallet is: $  200\n",
      "On which number? 5\n",
      "You've lost! Better luck next time! Winning number was:  16 Red\n",
      "Now available money in your wallet is: $  -300\n"
     ]
    }
   ],
   "source": [
    "main_menu(400)"
   ]
  },
  {
   "cell_type": "code",
   "execution_count": null,
   "id": "89755d0a",
   "metadata": {},
   "outputs": [],
   "source": []
  }
 ],
 "metadata": {
  "kernelspec": {
   "display_name": "Python 3 (ipykernel)",
   "language": "python",
   "name": "python3"
  },
  "language_info": {
   "codemirror_mode": {
    "name": "ipython",
    "version": 3
   },
   "file_extension": ".py",
   "mimetype": "text/x-python",
   "name": "python",
   "nbconvert_exporter": "python",
   "pygments_lexer": "ipython3",
   "version": "3.9.13"
  }
 },
 "nbformat": 4,
 "nbformat_minor": 5
}

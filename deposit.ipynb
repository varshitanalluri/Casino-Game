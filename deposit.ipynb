{
 "cells": [
  {
   "cell_type": "code",
   "execution_count": null,
   "metadata": {},
   "outputs": [],
   "source": [
    "def deposit_money(wallet):\n",
    "\n",
    "    print(\"----[Deposit Money]----\\n\")\n",
    "\n",
    "    deposit = int(input(\"How much would you like to deposit?: $ \"))\n",
    "    wallet = wallet + deposit\n",
    "    print(\"Succesfully deposited $ \", deposit)\n",
    "    show_wallet(wallet)"
   ]
  }
 ],
 "metadata": {
  "kernelspec": {
   "display_name": "Python 3 (ipykernel)",
   "language": "python",
   "name": "python3"
  },
  "language_info": {
   "codemirror_mode": {
    "name": "ipython",
    "version": 3
   },
   "file_extension": ".py",
   "mimetype": "text/x-python",
   "name": "python",
   "nbconvert_exporter": "python",
   "pygments_lexer": "ipython3",
   "version": "3.9.13"
  },
  "vscode": {
   "interpreter": {
    "hash": "460004b6bd7531633c883711120f809ce35490d2f137061fc9c43f7cdf1df71b"
   }
  }
 },
 "nbformat": 4,
 "nbformat_minor": 2
}

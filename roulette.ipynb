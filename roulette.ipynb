{
 "cells": [
  {
   "cell_type": "code",
   "execution_count": null,
   "metadata": {},
   "outputs": [],
   "source": [
    "import random\n",
    "\n",
    "def roulette(wallet):\n",
    "\n",
    "    random_color = random.choice(['Red', 'Black', 'Green'])\n",
    "    winning_number = random.randint(0,36)\n",
    "\n",
    "    print(\"----[Now playing Roulette]----\\n\")\n",
    "\n",
    "    bet = int(input(\"Place your amount of bets $: \"))\n",
    "    money_check(wallet, bet)\n",
    "\n",
    "    bet_number = int(input(\"On which number? \"))\n",
    "\n",
    "    if bet_number == winning_number:\n",
    "        print(\"Winning number is: \", winning_number, random_color)\n",
    "        print(\"Congratulations! You've won $: \", winnings)\n",
    "        winnings = bet * 36\n",
    "        wallet = wallet + winnings\n",
    "        show_wallet(wallet)\n",
    "    else:\n",
    "        print(\"You've lost! Better luck next time! Winning number was: \", winning_number, random_color)\n",
    "        wallet = wallet - bet\n",
    "        show_wallet(wallet)"
   ]
  }
 ],
 "metadata": {
  "kernelspec": {
   "display_name": "Python 3",
   "language": "python",
   "name": "python3"
  },
  "language_info": {
   "name": "python",
   "version": "3.11.1 (tags/v3.11.1:a7a450f, Dec  6 2022, 19:58:39) [MSC v.1934 64 bit (AMD64)]"
  },
  "orig_nbformat": 4,
  "vscode": {
   "interpreter": {
    "hash": "460004b6bd7531633c883711120f809ce35490d2f137061fc9c43f7cdf1df71b"
   }
  }
 },
 "nbformat": 4,
 "nbformat_minor": 2
}

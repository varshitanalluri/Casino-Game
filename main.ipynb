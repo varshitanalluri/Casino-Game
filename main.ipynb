{
 "cells": [
  {
   "cell_type": "code",
   "execution_count": 1,
   "metadata": {},
   "outputs": [],
   "source": [
    "def main_menu(wallet):\n",
    "\n",
    "    print(\"----[Welcome to the Royal Casino]----\")\n",
    "\n",
    "    print(\"----[Select from the following options]----\\n\")\n",
    "\n",
    "    print(\"[1] Roulette\")\n",
    "    print(\"[2] Deposit Money    [3] Withdraw Money    [4] Exit\")\n",
    "\n",
    "    game = int(input(\"Please Select your game: \"))\n",
    "    if game == 1:\n",
    "        roulette(wallet)\n",
    "    elif game == 2:\n",
    "        deposit_money(wallet)\n",
    "    elif game == 3:\n",
    "        withdraw_money(wallet)"
   ]
  }
 ],
 "metadata": {
  "kernelspec": {
   "display_name": "Python 3 (ipykernel)",
   "language": "python",
   "name": "python3"
  },
  "language_info": {
   "codemirror_mode": {
    "name": "ipython",
    "version": 3
   },
   "file_extension": ".py",
   "mimetype": "text/x-python",
   "name": "python",
   "nbconvert_exporter": "python",
   "pygments_lexer": "ipython3",
   "version": "3.9.13"
  },
  "vscode": {
   "interpreter": {
    "hash": "460004b6bd7531633c883711120f809ce35490d2f137061fc9c43f7cdf1df71b"
   }
  }
 },
 "nbformat": 4,
 "nbformat_minor": 2
}

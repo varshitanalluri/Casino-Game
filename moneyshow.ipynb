{
 "cells": [
  {
   "cell_type": "code",
   "execution_count": null,
   "metadata": {},
   "outputs": [],
   "source": [
    "def show_wallet(wallet):\n",
    "    print(\"Now available money in your wallet is: $ \", wallet)"
   ]
  }
 ],
 "metadata": {
  "kernelspec": {
   "display_name": "Python 3",
   "language": "python",
   "name": "python3"
  },
  "language_info": {
   "name": "python",
   "version": "3.11.1 (tags/v3.11.1:a7a450f, Dec  6 2022, 19:58:39) [MSC v.1934 64 bit (AMD64)]"
  },
  "orig_nbformat": 4,
  "vscode": {
   "interpreter": {
    "hash": "460004b6bd7531633c883711120f809ce35490d2f137061fc9c43f7cdf1df71b"
   }
  }
 },
 "nbformat": 4,
 "nbformat_minor": 2
}
